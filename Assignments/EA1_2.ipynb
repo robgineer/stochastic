{
 "cells": [
  {
   "cell_type": "markdown",
   "metadata": {},
   "source": [
    "# Aufgabe 2\n",
    "\n",
    "\"Wie viele Kinder sind typisch?“ <br>\n",
    "\n",
    "In einer Stichprobe haben 3378 Frauen keine Kinder, <br>\n",
    "3107 Frauen haben eins,<br>\n",
    "2459 Frauen zwei,<br>\n",
    "511 Frauen drei und<br>\n",
    "26 Frauen vier Kinder.\n",
    "\n",
    "\n",
    "Welchen Diagrammtyp würden Sie zur Veranschaulichung der Daten wählen? \n",
    "\n",
    "Welches Lage- bzw. Streumaß scheint Ihnen angemessen zu sein? Berechnen Sie diese\n",
    "Kennzahlen und entscheiden Sie, ob die Streuung groß oder klein ist."
   ]
  },
  {
   "cell_type": "markdown",
   "metadata": {},
   "source": [
    "## a) Diagramtyp für grafische Interpretation der Daten\n",
    "\n",
    "Da die Daten qualitative Merkmale beschreiben, eignet sich eine Ordinalskala und ein Säulendiagmram zur Darstellung.\n",
    "Ein Kreisdiagram wäre ebenfalls geeignet."
   ]
  },
  {
   "cell_type": "code",
   "execution_count": 37,
   "metadata": {},
   "outputs": [
    {
     "data": {
      "image/png": "[encoded data removed]",
      "text/plain": [
       "<Figure size 432x288 with 1 Axes>"
      ]
     },
     "metadata": {
      "needs_background": "light"
     },
     "output_type": "display_data"
    }
   ],
   "source": [
    "from matplotlib import pyplot as plt\n",
    "\n",
    "children = [\"1\", \"2\", \"3\", \"4\"]\n",
    "women = [3107, 2459, 511, 26]\n",
    "\n",
    "plt.bar(children, women)\n",
    "plt.ylabel('Anzahl Frauen')\n",
    "plt.xlabel('Zugehoerige Kinder')\n",
    "plt.show()"
   ]
  },
  {
   "cell_type": "markdown",
   "metadata": {},
   "source": [
    "## b) Lagemass\n",
    "\n",
    "Lt. Aufgabenstellung ist hier die Anzahl der Kinder relevant. Die Daten sind entsprechend gewichtet basierend auf der Anzahl der Frauen. Ferner sind die Daten sind linksschief. Der Median entspricht somit dem Modalwert.\n",
    "Als Lagemass eignen sich Perzentile."
   ]
  },
  {
   "cell_type": "code",
   "execution_count": 38,
   "metadata": {},
   "outputs": [
    {
     "name": "stdout",
     "output_type": "stream",
     "text": [
      "\n",
      "##### Values and their empirical probabilities ###\n",
      "{'1': 0.5090938882516794, '3': 0.08372931345240046, '2': 0.40291659839423233, '4': 0.004260199901687694}\n",
      "\n",
      "##### Values and their cumulated empirical probabilities ###\n",
      "{'1': 1.0, '3': 0.4909061117483205, '2': 0.40717679829592, '4': 0.004260199901687694}\n",
      "\n",
      "##### 0-Quantil ###\n",
      "4\n",
      "\n",
      "##### 0.25-Quantil ###\n",
      "2\n",
      "\n",
      "##### 0.5-Quantil ###\n",
      "1\n",
      "\n",
      "##### 0.75-Quantil ###\n",
      "1\n",
      "\n",
      "##### 1-Quantil ###\n",
      "1\n"
     ]
    }
   ],
   "source": [
    "\n",
    "def calc_cumulated_probabilities(input_dict):\n",
    "    #get sum of values\n",
    "    n = 0.0\n",
    "    for key, value in reversed(sorted(input_dict.items())):\n",
    "        n = n + value\n",
    "    # create a map with relative probabilities\n",
    "    empirical_probabilities = {}\n",
    "    for key, value in reversed(sorted(input_dict.items())):\n",
    "        # count appearances of current value\n",
    "        # current relative empirical probability)\n",
    "        current_relative_probability = value / n\n",
    "        # map value to value's relative empirical probability\n",
    "        empirical_probabilities.update({key: current_relative_probability})\n",
    "    # current cumulated value\n",
    "    cumulated_value = 0.0\n",
    "    # map of values and their cumulated probabilities\n",
    "    cumulated_probabilities = {}\n",
    "    for key, value in reversed((empirical_probabilities.items())):\n",
    "        cumulated_value = cumulated_value + value\n",
    "        cumulated_probabilities.update({key: cumulated_value})\n",
    "    print(\"\\n##### Values and their empirical probabilities ###\")\n",
    "    print((empirical_probabilities))\n",
    "    print(\"\\n##### Values and their cumulated empirical probabilities ###\")\n",
    "    print(cumulated_probabilities)\n",
    "    return cumulated_probabilities\n",
    "\n",
    "def calc_quantile(cumulated_probabilities, p):\n",
    "    quantile = 0.0\n",
    "    for key, value in reversed(cumulated_probabilities.items()):\n",
    "        if value >= p:\n",
    "            quantile = key\n",
    "            break\n",
    "    print(\"\\n##### \" + str(p) + \"-Quantil ###\")\n",
    "    print(quantile)\n",
    "\n",
    "\n",
    "sample = {\"4\": 26, \"3\": 511, \"2\": 2459, \"1\": 3107}\n",
    "cumulated_probabilities = calc_cumulated_probabilities(sample)\n",
    "calc_quantile(cumulated_probabilities, 0)\n",
    "calc_quantile(cumulated_probabilities, 0.25)\n",
    "calc_quantile(cumulated_probabilities, 0.5)\n",
    "calc_quantile(cumulated_probabilities, 0.75)\n",
    "calc_quantile(cumulated_probabilities, 1)    "
   ]
  },
  {
   "cell_type": "markdown",
   "metadata": {},
   "source": [
    "Ein weiteres Lagemass für die Stichprobe ist der gewichtete empirische Mittelwert wobei der Zielwert durch die Anzahl der Kinder und die Gewichtung durch die Anzahl der Frauen repräsentiert wird."
   ]
  },
  {
   "cell_type": "code",
   "execution_count": 41,
   "metadata": {},
   "outputs": [
    {
     "data": {
      "text/plain": [
       "1.5831558250040962"
      ]
     },
     "execution_count": 41,
     "metadata": {},
     "output_type": "execute_result"
    }
   ],
   "source": [
    "def calc_weighted_mean(sample, weights):\n",
    "    weighted_sample_sum = 0.0\n",
    "    for i in range(len(children)):\n",
    "        weighted_sample_sum = weighted_sample_sum + (children[i]*weights[i])\n",
    "    weights_sum = 0.0\n",
    "    for item in weights:\n",
    "        weights_sum = weights_sum + item\n",
    "    weighted_mean = weighted_sample_sum / weights_sum\n",
    "    return weighted_mean\n",
    "\n",
    "children = [1, 2, 3, 4]\n",
    "weights = [3107, 2459, 511, 26]\n",
    "\n",
    "calc_weighted_mean(children, weights)"
   ]
  },
  {
   "cell_type": "markdown",
   "metadata": {},
   "source": [
    "## b) Streumass\n",
    "\n",
    "Als Streumass eignet sich die empirische Varianz."
   ]
  },
  {
   "cell_type": "code",
   "execution_count": 53,
   "metadata": {},
   "outputs": [
    {
     "data": {
      "text/plain": [
       "2.787470988298559"
      ]
     },
     "execution_count": 53,
     "metadata": {},
     "output_type": "execute_result"
    }
   ],
   "source": [
    "def calc_variance(sample, weights):\n",
    "    n = len(sample)\n",
    "    mean = calc_weighted_mean(sample, weights)\n",
    "    temp = 0.0\n",
    "    for item in sample:\n",
    "        temp = temp + (item - mean)**2\n",
    "    return (1.0/(n - 1.0)) * temp\n",
    "\n",
    "children = [1, 2, 3, 4]\n",
    "weights = [3107, 2459, 511, 26]\n",
    "\n",
    "calc_variance(children, weights)"
   ]
  },
  {
   "cell_type": "markdown",
   "metadata": {},
   "source": [
    "Resultat: für den Wertebereich 1-4 und dem empirischen Mittelwert 1.5 ist die Varianz mit einem Wert von 2.7 groß."
   ]
  }
 ],
 "metadata": {
  "kernelspec": {
   "display_name": "Python 2",
   "language": "python",
   "name": "python2"
  },
  "language_info": {
   "codemirror_mode": {
    "name": "ipython",
    "version": 2
   },
   "file_extension": ".py",
   "mimetype": "text/x-python",
   "name": "python",
   "nbconvert_exporter": "python",
   "pygments_lexer": "ipython2",
   "version": "2.7.12"
  }
 },
 "nbformat": 4,
 "nbformat_minor": 2
}
