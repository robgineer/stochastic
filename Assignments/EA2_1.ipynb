{
 "cells": [
  {
   "cell_type": "markdown",
   "metadata": {},
   "source": [
    "# Aufgabe 1\n",
    "\n",
    "Ein zufälliges Experiment bestehe darin, dass eine Munze solange geworfen wird, bis zum ersten Mal die gleiche Seite zweimal hintereinander erscheint. Jeder dadurchentstehenden Folge aus $n$ Wurfen werde die  Wahrscheinlichkeit $\\frac{1}{2^n}$ zugeordnet, $n= 2,3,...$ \n",
    "\n",
    "Berechnen Sie die Wahrscheinlichkeit der drei folgenden Ereignisse:\n",
    "\n",
    "(a) Das Experiment endet nach hochstens 5 Wurfen.\n",
    "\n",
    "(b) Das Experiment besteht aus einer geraden Anzahl von Wurfen.\n",
    "\n",
    "(c) Das Experiment bricht nicht ab."
   ]
  },
  {
   "cell_type": "code",
   "execution_count": 1,
   "metadata": {},
   "outputs": [],
   "source": [
    "# define basic operations\n",
    "import itertools\n",
    "def get_omega(n, print_omega=True):\n",
    "    sum_i = 0\n",
    "    if print_omega:\n",
    "        print(\"Omega: \")\n",
    "    omega_iterator = itertools.product('01', repeat=n)\n",
    "    for i in omega_iterator:\n",
    "        sum_i = sum_i +1\n",
    "        if print_omega:\n",
    "            print(i)\n",
    "    print(\"\\nOmega size: \"+str(sum_i))\n",
    "    return itertools.product('01', repeat=n)\n",
    "\n",
    "def get_event_probability(omega_iterator):\n",
    "    event_counter = 0\n",
    "    omega_size = 0.0\n",
    "    for item in omega_iterator:\n",
    "        omega_size = omega_size + 1\n",
    "        last_element = 99\n",
    "        for element in item:\n",
    "            if element == last_element:\n",
    "                event_counter = event_counter +1\n",
    "                break\n",
    "            last_element = element\n",
    "    print(\"Anzahl erfolgreicher Experimente: \"+str(event_counter))\n",
    "    print(\"Wahrscheinlichkeit eines erfolgreichen Experiments: \"+str(event_counter/omega_size))\n",
    "    return event_counter, event_counter/omega_size"
   ]
  },
  {
   "cell_type": "markdown",
   "metadata": {},
   "source": [
    "## (a) Das Experiment endet nach hochstens 5 Würfen."
   ]
  },
  {
   "cell_type": "markdown",
   "metadata": {},
   "source": [
    "Allgemein: die Menge der Elementarereignisse bei einem Münzwurf ist \n",
    "\n",
    "\\begin{equation}\n",
    "\\Omega_1 := \\{0,1\\}\n",
    "\\end{equation}\n",
    "wobei $0 =$ Kopf und $1 =$ Zahl. \n",
    "\n",
    "Die Wahrscheinlichkeit, dass bei einem Münzwurf Kopf oder Zahl erscheint ist \n",
    "\\begin{equation}\n",
    "p_1(w) = \\frac{1}{|\\Omega|}\n",
    "\\end{equation}\n",
    "und somit\n",
    "\\begin{equation}\n",
    "p_1(w) = \\frac{1}{2}\n",
    "\\end{equation}\n",
    "\n"
   ]
  },
  {
   "cell_type": "markdown",
   "metadata": {},
   "source": [
    "### 2 Würfe\n",
    "\n",
    "Die Menge der Elementarereignisse, eine bestimmte Seite zwei mal hintereinander zu werfen ist \n",
    "\\begin{equation}\n",
    "\\Omega_2 := \\{(0,0),(1,1),(1,0),(0,1)\\}\n",
    "\\end{equation}\n",
    "\n",
    "mit\n",
    "\n",
    "\\begin{equation}\n",
    "p_2(w) = \\frac{1}{2^2}\n",
    "\\end{equation}\n",
    "\n",
    "Da es sich hier um bedingte Wahrscheinlichkeiten handelt (das Resultat beider Münzwürfe hängt voneinander ab), werden die Wahrscheinlichkeiten der Elementarergeinisse aus $\\Omega_1$ multipliziert. Damit ergibt sich\n",
    "\n",
    "\\begin{equation}\n",
    "p_2(w) = \\frac{1}{2} *  \\frac{1}{2} =  \\frac{1}{4} = \\frac{1}{2^2}\n",
    "\\end{equation}\n",
    "\n",
    "\n",
    "Nun ist lt. Aufgabenstellung das Experiment beendet, falls die gleiche Seite (Kopf oder Zahl) zwei mal hintereinander erscheint. \n",
    "$\\Omega_2$ enthält $4$ Elemente wobei $2$ Elemente die gleiche Seite repräsentieren. Damit ergibt sich eine Wahrscheinlichkeit mit zwei Würfen zwei mal die gleiche Seite zu werfen von $\\frac{2}{4} = \\frac{1}{2}$"
   ]
  },
  {
   "cell_type": "markdown",
   "metadata": {},
   "source": [
    "### 3 Würfe\n",
    "Bei drei maligem Wurf ist $\\Omega_3=$"
   ]
  },
  {
   "cell_type": "code",
   "execution_count": 2,
   "metadata": {},
   "outputs": [
    {
     "name": "stdout",
     "output_type": "stream",
     "text": [
      "Omega: \n",
      "('0', '0', '0')\n",
      "('0', '0', '1')\n",
      "('0', '1', '0')\n",
      "('0', '1', '1')\n",
      "('1', '0', '0')\n",
      "('1', '0', '1')\n",
      "('1', '1', '0')\n",
      "('1', '1', '1')\n",
      "\n",
      "Omega size: 8\n"
     ]
    }
   ],
   "source": [
    "omega_3 = get_omega(3)"
   ]
  },
  {
   "cell_type": "markdown",
   "metadata": {},
   "source": [
    "Die Wahrscheinlichkeit eine bestimmte Seite drei mal hintereinander zu werfen ist damit\n",
    "\n",
    "\\begin{equation}\n",
    "\\frac{1}{2} *  \\frac{1}{2} * \\frac{1}{2} =  \\frac{1}{8} = \\frac{1}{2^3}\n",
    "\\end{equation}\n",
    "\n",
    "Da\n",
    "\n",
    "\\begin{equation}\n",
    "\\Omega_2 \\subseteq \\Omega_3\n",
    "\\end{equation}\n",
    "\n",
    "die Seite zudem unbestimmt ist, nur zwei (von 3 Würfen) relevant sind und somit $6$ von $8$ Elementen in $\\Omega_3$ zum Beenden des Experiments führen, ist die Wahrscheinlichkeit hier $\\frac{6}{8} = \\frac{3}{4}$"
   ]
  },
  {
   "cell_type": "code",
   "execution_count": 3,
   "metadata": {},
   "outputs": [
    {
     "name": "stdout",
     "output_type": "stream",
     "text": [
      "Anzahl erfolgreicher Experimente: 6\n",
      "Wahrscheinlichkeit eines erfolgreichen Experiments: 0.75\n"
     ]
    },
    {
     "data": {
      "text/plain": [
       "(6, 0.75)"
      ]
     },
     "execution_count": 3,
     "metadata": {},
     "output_type": "execute_result"
    }
   ],
   "source": [
    "get_event_probability(omega_3)"
   ]
  },
  {
   "cell_type": "markdown",
   "metadata": {},
   "source": [
    "### 4 Würfe\n",
    "Bei 4 maligem Wurf gilt $\\Omega_4=$ "
   ]
  },
  {
   "cell_type": "code",
   "execution_count": 4,
   "metadata": {},
   "outputs": [
    {
     "name": "stdout",
     "output_type": "stream",
     "text": [
      "Omega: \n",
      "('0', '0', '0', '0')\n",
      "('0', '0', '0', '1')\n",
      "('0', '0', '1', '0')\n",
      "('0', '0', '1', '1')\n",
      "('0', '1', '0', '0')\n",
      "('0', '1', '0', '1')\n",
      "('0', '1', '1', '0')\n",
      "('0', '1', '1', '1')\n",
      "('1', '0', '0', '0')\n",
      "('1', '0', '0', '1')\n",
      "('1', '0', '1', '0')\n",
      "('1', '0', '1', '1')\n",
      "('1', '1', '0', '0')\n",
      "('1', '1', '0', '1')\n",
      "('1', '1', '1', '0')\n",
      "('1', '1', '1', '1')\n",
      "\n",
      "Omega size: 16\n"
     ]
    }
   ],
   "source": [
    "omega_4 = get_omega(4)"
   ]
  },
  {
   "cell_type": "code",
   "execution_count": 5,
   "metadata": {},
   "outputs": [
    {
     "name": "stdout",
     "output_type": "stream",
     "text": [
      "Anzahl erfolgreicher Experimente: 14\n",
      "Wahrscheinlichkeit eines erfolgreichen Experiments: 0.875\n"
     ]
    },
    {
     "data": {
      "text/plain": [
       "(14, 0.875)"
      ]
     },
     "execution_count": 5,
     "metadata": {},
     "output_type": "execute_result"
    }
   ],
   "source": [
    "get_event_probability(omega_4)"
   ]
  },
  {
   "cell_type": "markdown",
   "metadata": {},
   "source": [
    "### 5 Würfe\n",
    "Bei 5 maligem Wurf gilt $\\Omega_5=$"
   ]
  },
  {
   "cell_type": "code",
   "execution_count": 6,
   "metadata": {},
   "outputs": [
    {
     "name": "stdout",
     "output_type": "stream",
     "text": [
      "Omega: \n",
      "('0', '0', '0', '0', '0')\n",
      "('0', '0', '0', '0', '1')\n",
      "('0', '0', '0', '1', '0')\n",
      "('0', '0', '0', '1', '1')\n",
      "('0', '0', '1', '0', '0')\n",
      "('0', '0', '1', '0', '1')\n",
      "('0', '0', '1', '1', '0')\n",
      "('0', '0', '1', '1', '1')\n",
      "('0', '1', '0', '0', '0')\n",
      "('0', '1', '0', '0', '1')\n",
      "('0', '1', '0', '1', '0')\n",
      "('0', '1', '0', '1', '1')\n",
      "('0', '1', '1', '0', '0')\n",
      "('0', '1', '1', '0', '1')\n",
      "('0', '1', '1', '1', '0')\n",
      "('0', '1', '1', '1', '1')\n",
      "('1', '0', '0', '0', '0')\n",
      "('1', '0', '0', '0', '1')\n",
      "('1', '0', '0', '1', '0')\n",
      "('1', '0', '0', '1', '1')\n",
      "('1', '0', '1', '0', '0')\n",
      "('1', '0', '1', '0', '1')\n",
      "('1', '0', '1', '1', '0')\n",
      "('1', '0', '1', '1', '1')\n",
      "('1', '1', '0', '0', '0')\n",
      "('1', '1', '0', '0', '1')\n",
      "('1', '1', '0', '1', '0')\n",
      "('1', '1', '0', '1', '1')\n",
      "('1', '1', '1', '0', '0')\n",
      "('1', '1', '1', '0', '1')\n",
      "('1', '1', '1', '1', '0')\n",
      "('1', '1', '1', '1', '1')\n",
      "\n",
      "Omega size: 32\n"
     ]
    }
   ],
   "source": [
    "omega_5 = get_omega(5)"
   ]
  },
  {
   "cell_type": "code",
   "execution_count": 7,
   "metadata": {},
   "outputs": [
    {
     "name": "stdout",
     "output_type": "stream",
     "text": [
      "Anzahl erfolgreicher Experimente: 30\n",
      "Wahrscheinlichkeit eines erfolgreichen Experiments: 0.9375\n"
     ]
    },
    {
     "data": {
      "text/plain": [
       "(30, 0.9375)"
      ]
     },
     "execution_count": 7,
     "metadata": {},
     "output_type": "execute_result"
    }
   ],
   "source": [
    "get_event_probability(omega_5)"
   ]
  },
  {
   "cell_type": "markdown",
   "metadata": {},
   "source": [
    "## (b) Das Experiment besteht aus einer geraden Anzahl von Würfen."
   ]
  },
  {
   "cell_type": "code",
   "execution_count": 11,
   "metadata": {},
   "outputs": [
    {
     "name": "stdout",
     "output_type": "stream",
     "text": [
      "\n",
      "Omega size: 4\n",
      "Anzahl erfolgreicher Experimente: 2\n",
      "Wahrscheinlichkeit eines erfolgreichen Experiments: 0.5\n",
      "\n",
      "Omega size: 16\n",
      "Anzahl erfolgreicher Experimente: 14\n",
      "Wahrscheinlichkeit eines erfolgreichen Experiments: 0.875\n",
      "\n",
      "Omega size: 64\n",
      "Anzahl erfolgreicher Experimente: 62\n",
      "Wahrscheinlichkeit eines erfolgreichen Experiments: 0.96875\n",
      "\n",
      "Omega size: 256\n",
      "Anzahl erfolgreicher Experimente: 254\n",
      "Wahrscheinlichkeit eines erfolgreichen Experiments: 0.9921875\n"
     ]
    }
   ],
   "source": [
    "for i in range(2, 10, 2):\n",
    "    omega_x = get_omega(i, print_omega=False)\n",
    "    get_event_probability(omega_x)"
   ]
  },
  {
   "cell_type": "markdown",
   "metadata": {},
   "source": [
    "## (c) Das Experiment bricht nicht ab."
   ]
  },
  {
   "cell_type": "code",
   "execution_count": 12,
   "metadata": {},
   "outputs": [
    {
     "name": "stdout",
     "output_type": "stream",
     "text": [
      "\n",
      "Omega size: 4\n",
      "Anzahl erfolgreicher Experimente: 2\n",
      "Wahrscheinlichkeit eines erfolgreichen Experiments: 0.5\n",
      "\n",
      "Omega size: 8\n",
      "Anzahl erfolgreicher Experimente: 6\n",
      "Wahrscheinlichkeit eines erfolgreichen Experiments: 0.75\n",
      "\n",
      "Omega size: 16\n",
      "Anzahl erfolgreicher Experimente: 14\n",
      "Wahrscheinlichkeit eines erfolgreichen Experiments: 0.875\n",
      "\n",
      "Omega size: 32\n",
      "Anzahl erfolgreicher Experimente: 30\n",
      "Wahrscheinlichkeit eines erfolgreichen Experiments: 0.9375\n",
      "\n",
      "Omega size: 64\n",
      "Anzahl erfolgreicher Experimente: 62\n",
      "Wahrscheinlichkeit eines erfolgreichen Experiments: 0.96875\n",
      "\n",
      "Omega size: 128\n",
      "Anzahl erfolgreicher Experimente: 126\n",
      "Wahrscheinlichkeit eines erfolgreichen Experiments: 0.984375\n",
      "\n",
      "Omega size: 256\n",
      "Anzahl erfolgreicher Experimente: 254\n",
      "Wahrscheinlichkeit eines erfolgreichen Experiments: 0.9921875\n",
      "\n",
      "Omega size: 512\n",
      "Anzahl erfolgreicher Experimente: 510\n",
      "Wahrscheinlichkeit eines erfolgreichen Experiments: 0.99609375\n",
      "\n",
      "Omega size: 1024\n",
      "Anzahl erfolgreicher Experimente: 1022\n",
      "Wahrscheinlichkeit eines erfolgreichen Experiments: 0.998046875\n",
      "\n",
      "Omega size: 2048\n",
      "Anzahl erfolgreicher Experimente: 2046\n",
      "Wahrscheinlichkeit eines erfolgreichen Experiments: 0.9990234375\n",
      "\n",
      "Omega size: 4096\n",
      "Anzahl erfolgreicher Experimente: 4094\n",
      "Wahrscheinlichkeit eines erfolgreichen Experiments: 0.99951171875\n",
      "\n",
      "Omega size: 8192\n",
      "Anzahl erfolgreicher Experimente: 8190\n",
      "Wahrscheinlichkeit eines erfolgreichen Experiments: 0.999755859375\n",
      "\n",
      "Omega size: 16384\n",
      "Anzahl erfolgreicher Experimente: 16382\n",
      "Wahrscheinlichkeit eines erfolgreichen Experiments: 0.999877929688\n",
      "\n",
      "Omega size: 32768\n",
      "Anzahl erfolgreicher Experimente: 32766\n",
      "Wahrscheinlichkeit eines erfolgreichen Experiments: 0.999938964844\n",
      "\n",
      "Omega size: 65536\n",
      "Anzahl erfolgreicher Experimente: 65534\n",
      "Wahrscheinlichkeit eines erfolgreichen Experiments: 0.999969482422\n",
      "\n",
      "Omega size: 131072\n",
      "Anzahl erfolgreicher Experimente: 131070\n",
      "Wahrscheinlichkeit eines erfolgreichen Experiments: 0.999984741211\n",
      "\n",
      "Omega size: 262144\n",
      "Anzahl erfolgreicher Experimente: 262142\n",
      "Wahrscheinlichkeit eines erfolgreichen Experiments: 0.999992370605\n",
      "\n",
      "Omega size: 524288\n",
      "Anzahl erfolgreicher Experimente: 524286\n",
      "Wahrscheinlichkeit eines erfolgreichen Experiments: 0.999996185303\n"
     ]
    }
   ],
   "source": [
    "for i in range(2, 20, 1):\n",
    "    omega_x = get_omega(i, print_omega=False)\n",
    "    get_event_probability(omega_x)"
   ]
  },
  {
   "cell_type": "markdown",
   "metadata": {},
   "source": [
    "## Zusammenfassung\n",
    "\n",
    "Aus einer beliebigen Folge an Würfen gibt es stets $2$ Sätze die nicht zum Beenden des Experiments führen. Mit einer höheren Anzahl an Würfen steigt somit die Wahrscheinlichkeit eines zweifachen Wurfs für \"Kopf\" oder \"Zahl\".\n",
    "\n",
    "Mit der Grösse der Wurffolge ($|\\Omega|$) erhöht sich die Wahrscheinlichkeit bzgl. des Beenden des Experiments.\n",
    "\n",
    "Allgemein gilt:\n",
    "\n",
    "\\begin{equation}\n",
    "\\Omega_n = \\{1,0\\}^n\n",
    "\\end{equation}\n",
    "\n",
    "\\begin{equation}\n",
    "|\\Omega_n| = 2^n\n",
    "\\end{equation}\n",
    "\n",
    "(da Münze zwei Seiten hat).\n",
    "\n",
    "Sei $A_n$ die Ereignismenge zwei mal hintereinander Kopf oder Zahl mit $n$ Würfen. Dann ist \n",
    "\n",
    "\\begin{equation}\n",
    "A_n = \\{(1,1)^n, (0,0)^n\\}\n",
    "\\end{equation}\n",
    "\n",
    "mit \n",
    "\n",
    "\\begin{equation}\n",
    "A_n \\subseteq \\Omega_n\n",
    "\\end{equation}\n",
    "\n",
    "Die Mächtigkeit von $A_n$ ist dabei abhängig von der Anzahl der Würfe $n$.\n",
    "\n",
    "\\begin{equation}\n",
    "|A_n| = |\\Omega_n| - 2\n",
    "\\end{equation}"
   ]
  },
  {
   "cell_type": "code",
   "execution_count": null,
   "metadata": {},
   "outputs": [],
   "source": []
  }
 ],
 "metadata": {
  "kernelspec": {
   "display_name": "Python 2",
   "language": "python",
   "name": "python2"
  },
  "language_info": {
   "codemirror_mode": {
    "name": "ipython",
    "version": 2
   },
   "file_extension": ".py",
   "mimetype": "text/x-python",
   "name": "python",
   "nbconvert_exporter": "python",
   "pygments_lexer": "ipython2",
   "version": "2.7.12"
  }
 },
 "nbformat": 4,
 "nbformat_minor": 2
}
