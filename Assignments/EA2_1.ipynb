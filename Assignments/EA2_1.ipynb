{
 "cells": [
  {
   "cell_type": "markdown",
   "metadata": {},
   "source": [
    "# Aufgabe 1\n",
    "\n",
    "Ein zufälliges Experiment bestehe darin, dass eine Munze solange geworfen wird, bis 12 Punkte zum ersten Mal die gleiche Seite zweimal hintereinander erscheint. Jeder dadurchentstehenden Folge aus $n$ Wurfen werde die  Wahrscheinlichkeit $\\frac{1}{2^n}$ zugeordnet, $n= 2,3,...$ \n",
    "\n",
    "Berechnen Sie die Wahrscheinlichkeit der drei folgenden Ereignisse:\n",
    "\n",
    "(a) Das Experiment endet nach hochstens 5 Wurfen.\n",
    "\n",
    "(b) Das Experiment besteht aus einer geraden Anzahl von Wurfen.\n",
    "\n",
    "(c) Das Experiment bricht nicht ab."
   ]
  },
  {
   "cell_type": "code",
   "execution_count": 1,
   "metadata": {},
   "outputs": [],
   "source": [
    "def calc_prob(n, stepsize):\n",
    "    sum_p = 0\n",
    "    list_p = []\n",
    "    for i in range(2, n+1, stepsize):\n",
    "        temp = 1.0/(2**i)\n",
    "        list_p.append(temp)\n",
    "        sum_p = sum_p + temp\n",
    "    return sum_p, list_p"
   ]
  },
  {
   "cell_type": "markdown",
   "metadata": {},
   "source": [
    "## (a) Das Experiment endet nach hochstens 5 Würfen."
   ]
  },
  {
   "cell_type": "markdown",
   "metadata": {},
   "source": [
    "Die Warscheinlichkeit, bis zum ersten Mal die gleiche Seite geworfen wird nimmt mit jedem Wurf ab. Die Wahrscheinlichkeit eines Eregnisses summiert sich aus den Wahrscheinlichkeiten der Würfe des Ereignisses. Somit: $\\sum_{i=1}^{n}\\frac{1}{2^i}$"
   ]
  },
  {
   "cell_type": "code",
   "execution_count": 5,
   "metadata": {},
   "outputs": [
    {
     "name": "stdout",
     "output_type": "stream",
     "text": [
      "0.46875\n",
      "[0.25, 0.125, 0.0625, 0.03125]\n"
     ]
    }
   ],
   "source": [
    "sum_p, list_p = calc_prob(5, 1)\n",
    "print(sum_p)\n",
    "print(list_p)"
   ]
  },
  {
   "cell_type": "markdown",
   "metadata": {},
   "source": [
    "## (b) Das Experiment besteht aus einer geraden Anzahl von Würfen."
   ]
  },
  {
   "cell_type": "code",
   "execution_count": 6,
   "metadata": {},
   "outputs": [
    {
     "name": "stdout",
     "output_type": "stream",
     "text": [
      "0.333333333333\n"
     ]
    }
   ],
   "source": [
    "sum_p, list_p = calc_prob(100, 2)\n",
    "print(sum_p)"
   ]
  },
  {
   "cell_type": "markdown",
   "metadata": {},
   "source": [
    "## (c) Das Experiment bricht nicht ab."
   ]
  },
  {
   "cell_type": "code",
   "execution_count": 4,
   "metadata": {},
   "outputs": [
    {
     "name": "stdout",
     "output_type": "stream",
     "text": [
      "0.5\n"
     ]
    }
   ],
   "source": [
    "sum_p, list_p = calc_prob(1000, 1)\n",
    "print(sum_p)"
   ]
  },
  {
   "cell_type": "code",
   "execution_count": null,
   "metadata": {},
   "outputs": [],
   "source": []
  }
 ],
 "metadata": {
  "kernelspec": {
   "display_name": "Python 2",
   "language": "python",
   "name": "python2"
  },
  "language_info": {
   "codemirror_mode": {
    "name": "ipython",
    "version": 2
   },
   "file_extension": ".py",
   "mimetype": "text/x-python",
   "name": "python",
   "nbconvert_exporter": "python",
   "pygments_lexer": "ipython2",
   "version": "2.7.12"
  }
 },
 "nbformat": 4,
 "nbformat_minor": 2
}
