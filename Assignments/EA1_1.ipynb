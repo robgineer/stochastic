{
 "cells": [
  {
   "cell_type": "markdown",
   "metadata": {},
   "source": [
    "# Aufgabe 1\n",
    "\n",
    "Die unten stehenden Werte seien die zugrundeliegenden Daten einer Stichprobe.\n",
    "\n",
    "374 358 341 355 342 334 353 346 355 344 <br>\n",
    "349 330 352 328 336 359 361 345 324 386 <br>\n",
    "334 370 349 327 342 354 361 354 377 324 <br>\n",
    "<br>\n",
    "\n",
    "Fertigen Sie ein Stamm-Blatt-Diagramm an. \n",
    "\n",
    "Bestimmen Sie das arithmetische Mittel und den Median, die empirische Varianz und die Standardabweichung der Stichprobe sowie das untere Quartil und das 90% -Quantil, die Stichprobenspannweite und den Quartilsabstand. \n",
    "\n",
    "Wie gross kann der empirische Median dieser Daten höchstens werden, wenn beliebige 4 der 30 Werte verzehnfacht werden?"
   ]
  },
  {
   "cell_type": "markdown",
   "metadata": {},
   "source": [
    "## a) Stamm-Blatt-Diagramm"
   ]
  },
  {
   "cell_type": "code",
   "execution_count": 142,
   "metadata": {},
   "outputs": [
    {
     "name": "stdout",
     "output_type": "stream",
     "text": [
      "[324, 324, 327, 328, 330, 334, 334, 336, 341, 342, 342, 344, 345, 346, 349, 349, 352, 353, 354, 354, 355, 355, 358, 359, 361, 361, 370, 374, 377, 386]\n"
     ]
    }
   ],
   "source": [
    "data = [374, 358, 341, 355, 342, 334, 353, 346, 355, 344, 349, 330, 352, 328, 336, 359, 361, 345, 324,\n",
    "        386, 334, 370, 349, 327, 342, 354, 361, 354, 377, 324]\n",
    "data_sorted = sorted(data)\n",
    "print(data_sorted)"
   ]
  },
  {
   "cell_type": "markdown",
   "metadata": {},
   "source": [
    "Verwende zweite Ziffer der Merkmalsauspärgungen zur Klassierung."
   ]
  },
  {
   "cell_type": "code",
   "execution_count": 143,
   "metadata": {},
   "outputs": [],
   "source": [
    "import pandas as pd\n",
    "\n",
    "data_bins = pd.DataFrame([[2, 4478], [3, 4460], [4, 12245699], [5, 23445589], [6, 11], [7, 470], [8, 6]])"
   ]
  },
  {
   "cell_type": "code",
   "execution_count": 144,
   "metadata": {},
   "outputs": [
    {
     "data": {
      "text/html": [
       "<div>\n",
       "<style scoped>\n",
       "    .dataframe tbody tr th:only-of-type {\n",
       "        vertical-align: middle;\n",
       "    }\n",
       "\n",
       "    .dataframe tbody tr th {\n",
       "        vertical-align: top;\n",
       "    }\n",
       "\n",
       "    .dataframe thead th {\n",
       "        text-align: right;\n",
       "    }\n",
       "</style>\n",
       "<table border=\"1\" class=\"dataframe\">\n",
       "  <thead>\n",
       "    <tr style=\"text-align: right;\">\n",
       "      <th></th>\n",
       "      <th>Blätter</th>\n",
       "    </tr>\n",
       "    <tr>\n",
       "      <th>Stämme</th>\n",
       "      <th></th>\n",
       "    </tr>\n",
       "  </thead>\n",
       "  <tbody>\n",
       "    <tr>\n",
       "      <th>2</th>\n",
       "      <td>4478</td>\n",
       "    </tr>\n",
       "    <tr>\n",
       "      <th>3</th>\n",
       "      <td>4460</td>\n",
       "    </tr>\n",
       "    <tr>\n",
       "      <th>4</th>\n",
       "      <td>12245699</td>\n",
       "    </tr>\n",
       "    <tr>\n",
       "      <th>5</th>\n",
       "      <td>23445589</td>\n",
       "    </tr>\n",
       "    <tr>\n",
       "      <th>6</th>\n",
       "      <td>11</td>\n",
       "    </tr>\n",
       "    <tr>\n",
       "      <th>7</th>\n",
       "      <td>470</td>\n",
       "    </tr>\n",
       "    <tr>\n",
       "      <th>8</th>\n",
       "      <td>6</td>\n",
       "    </tr>\n",
       "  </tbody>\n",
       "</table>\n",
       "</div>"
      ],
      "text/plain": [
       "         Blätter\n",
       "Stämme          \n",
       "2           4478\n",
       "3           4460\n",
       "4       12245699\n",
       "5       23445589\n",
       "6             11\n",
       "7            470\n",
       "8              6"
      ]
     },
     "execution_count": 144,
     "metadata": {},
     "output_type": "execute_result"
    }
   ],
   "source": [
    "data_bins.columns=['Stämme', 'Blätter']\n",
    "data_bins.set_index('Stämme')"
   ]
  },
  {
   "cell_type": "markdown",
   "metadata": {},
   "source": [
    "## b) Arithmetisches Mittel\n",
    "\n",
    "$\\bar{x} = \\frac{1}{n}\\sum_{i=1}^n x_i$"
   ]
  },
  {
   "cell_type": "code",
   "execution_count": 145,
   "metadata": {},
   "outputs": [
    {
     "data": {
      "text/plain": [
       "348.8"
      ]
     },
     "execution_count": 145,
     "metadata": {},
     "output_type": "execute_result"
    }
   ],
   "source": [
    "def calc_mean(input_list):\n",
    "    sum_of_entries = 0.0\n",
    "    for item in input_list:\n",
    "        sum_of_entries = sum_of_entries + item\n",
    "    return sum_of_entries / len(input_list)\n",
    "\n",
    "calc_mean(data_sorted)"
   ]
  },
  {
   "cell_type": "markdown",
   "metadata": {},
   "source": [
    "## c) Median\n",
    "\n",
    "Bei geordneten Stichproben gilt \n",
    "\n",
    "falls $n$ ungerade: \n",
    "\\begin{equation}\n",
    "\\tilde{x} = x_{[\\frac{n+1}{2}]}\n",
    "\\end{equation}\n",
    "\n",
    "falls $n$ gerade:\n",
    "\n",
    "\\begin{equation}\n",
    "\\tilde{x} = \\frac{x_{[\\frac{n}{2}]} + x_{[\\frac{n}{2} + 1]}}{2}\n",
    "\\end{equation}"
   ]
  },
  {
   "cell_type": "code",
   "execution_count": 146,
   "metadata": {},
   "outputs": [
    {
     "data": {
      "text/plain": [
       "350"
      ]
     },
     "execution_count": 146,
     "metadata": {},
     "output_type": "execute_result"
    }
   ],
   "source": [
    "def calc_median(input_list):\n",
    "    # odd\n",
    "    n = len(input_list)\n",
    "    if n%2 != 0:\n",
    "        index = (n+1)/2\n",
    "        return input_list[index]\n",
    "    # even\n",
    "    else: \n",
    "        index_1 = n/2\n",
    "        index_2 = n/2+1\n",
    "        return (input_list[index_1] + input_list[index_2]) / 2\n",
    "calc_median(data_sorted)"
   ]
  },
  {
   "cell_type": "markdown",
   "metadata": {},
   "source": [
    "## d) Empirische Varianz\n",
    "\n",
    "$s_x^2 = \\frac{1}{n-1}\\sum_{i=1}^n (x_i - \\bar{x})^2$"
   ]
  },
  {
   "cell_type": "code",
   "execution_count": 147,
   "metadata": {},
   "outputs": [
    {
     "data": {
      "text/plain": [
       "248.30344827586208"
      ]
     },
     "execution_count": 147,
     "metadata": {},
     "output_type": "execute_result"
    }
   ],
   "source": [
    "def calc_variance(input_list):\n",
    "    n = len(input_list)\n",
    "    mean = calc_mean(input_list)\n",
    "    temp = 0.0\n",
    "    for item in input_list:\n",
    "        temp = temp + (item - mean)**2\n",
    "    return (1.0/(n - 1.0)) * temp\n",
    "\n",
    "calc_variance(data_sorted)"
   ]
  },
  {
   "cell_type": "markdown",
   "metadata": {},
   "source": [
    "## d) Empirische Standardabweichung\n",
    "\n",
    "$s_x = \\sqrt{\\frac{1}{n-1}\\sum_{i=1}^n (x_i - \\bar{x})^2}$"
   ]
  },
  {
   "cell_type": "code",
   "execution_count": 148,
   "metadata": {},
   "outputs": [
    {
     "data": {
      "text/plain": [
       "15.757647295071116"
      ]
     },
     "execution_count": 148,
     "metadata": {},
     "output_type": "execute_result"
    }
   ],
   "source": [
    "from math import sqrt\n",
    "def calc_stdev(input_list):\n",
    "    variance = calc_variance(input_list)\n",
    "    return sqrt(variance)\n",
    "\n",
    "calc_stdev(data_sorted)"
   ]
  },
  {
   "cell_type": "markdown",
   "metadata": {},
   "source": [
    "## e) 0.25 und 0.9 Quantile"
   ]
  },
  {
   "cell_type": "code",
   "execution_count": 149,
   "metadata": {},
   "outputs": [
    {
     "name": "stdout",
     "output_type": "stream",
     "text": [
      "\n",
      "##### Values and their empirical probabilities ###\n",
      "{324: 0.06666666666666667,\n",
      " 327: 0.03333333333333333,\n",
      " 328: 0.03333333333333333,\n",
      " 330: 0.03333333333333333,\n",
      " 334: 0.06666666666666667,\n",
      " 336: 0.03333333333333333,\n",
      " 341: 0.03333333333333333,\n",
      " 342: 0.06666666666666667,\n",
      " 344: 0.03333333333333333,\n",
      " 345: 0.03333333333333333,\n",
      " 346: 0.03333333333333333,\n",
      " 349: 0.06666666666666667,\n",
      " 352: 0.03333333333333333,\n",
      " 353: 0.03333333333333333,\n",
      " 354: 0.06666666666666667,\n",
      " 355: 0.06666666666666667,\n",
      " 358: 0.03333333333333333,\n",
      " 359: 0.03333333333333333,\n",
      " 361: 0.06666666666666667,\n",
      " 370: 0.03333333333333333,\n",
      " 374: 0.03333333333333333,\n",
      " 377: 0.03333333333333333,\n",
      " 386: 0.03333333333333333}\n",
      "\n",
      "##### Values and their cumulated empirical probabilities ###\n",
      "{324: 0.06666666666666667,\n",
      " 327: 0.1,\n",
      " 328: 0.13333333333333333,\n",
      " 330: 0.16666666666666666,\n",
      " 334: 0.23333333333333334,\n",
      " 336: 0.26666666666666666,\n",
      " 341: 0.3,\n",
      " 342: 0.36666666666666664,\n",
      " 344: 0.39999999999999997,\n",
      " 345: 0.4333333333333333,\n",
      " 346: 0.4666666666666666,\n",
      " 349: 0.5333333333333333,\n",
      " 352: 0.5666666666666667,\n",
      " 353: 0.6,\n",
      " 354: 0.6666666666666666,\n",
      " 355: 0.7333333333333333,\n",
      " 358: 0.7666666666666666,\n",
      " 359: 0.7999999999999999,\n",
      " 361: 0.8666666666666666,\n",
      " 370: 0.8999999999999999,\n",
      " 374: 0.9333333333333332,\n",
      " 377: 0.9666666666666666,\n",
      " 386: 0.9999999999999999}\n",
      "\n",
      "##### 0.25-Quantil ###\n",
      "336\n",
      "\n",
      "##### Values and their empirical probabilities ###\n",
      "{324: 0.06666666666666667,\n",
      " 327: 0.03333333333333333,\n",
      " 328: 0.03333333333333333,\n",
      " 330: 0.03333333333333333,\n",
      " 334: 0.06666666666666667,\n",
      " 336: 0.03333333333333333,\n",
      " 341: 0.03333333333333333,\n",
      " 342: 0.06666666666666667,\n",
      " 344: 0.03333333333333333,\n",
      " 345: 0.03333333333333333,\n",
      " 346: 0.03333333333333333,\n",
      " 349: 0.06666666666666667,\n",
      " 352: 0.03333333333333333,\n",
      " 353: 0.03333333333333333,\n",
      " 354: 0.06666666666666667,\n",
      " 355: 0.06666666666666667,\n",
      " 358: 0.03333333333333333,\n",
      " 359: 0.03333333333333333,\n",
      " 361: 0.06666666666666667,\n",
      " 370: 0.03333333333333333,\n",
      " 374: 0.03333333333333333,\n",
      " 377: 0.03333333333333333,\n",
      " 386: 0.03333333333333333}\n",
      "\n",
      "##### Values and their cumulated empirical probabilities ###\n",
      "{324: 0.06666666666666667,\n",
      " 327: 0.1,\n",
      " 328: 0.13333333333333333,\n",
      " 330: 0.16666666666666666,\n",
      " 334: 0.23333333333333334,\n",
      " 336: 0.26666666666666666,\n",
      " 341: 0.3,\n",
      " 342: 0.36666666666666664,\n",
      " 344: 0.39999999999999997,\n",
      " 345: 0.4333333333333333,\n",
      " 346: 0.4666666666666666,\n",
      " 349: 0.5333333333333333,\n",
      " 352: 0.5666666666666667,\n",
      " 353: 0.6,\n",
      " 354: 0.6666666666666666,\n",
      " 355: 0.7333333333333333,\n",
      " 358: 0.7666666666666666,\n",
      " 359: 0.7999999999999999,\n",
      " 361: 0.8666666666666666,\n",
      " 370: 0.8999999999999999,\n",
      " 374: 0.9333333333333332,\n",
      " 377: 0.9666666666666666,\n",
      " 386: 0.9999999999999999}\n",
      "\n",
      "##### 0.9-Quantil ###\n",
      "374\n"
     ]
    }
   ],
   "source": [
    "import pprint\n",
    "def calc_quantile(input_list, p):\n",
    "    empirical_probabilities = {}\n",
    "    # size of sample\n",
    "    n = float(len(input_list))\n",
    "    # iterate through input list\n",
    "    for item in input_list:\n",
    "        # count appearances of current value\n",
    "        current_item_count = data_sorted.count(item)\n",
    "        # current relative empirical probability)\n",
    "        current_relative_probability = current_item_count / n\n",
    "        # map value to value's relative empirical probability\n",
    "        empirical_probabilities.update({item: current_relative_probability})\n",
    "    # current cumulated value\n",
    "    cumulated_value = 0.0\n",
    "    # map of values and their cumulated probabilities\n",
    "    cumulated_probabilities = {}\n",
    "    for key, value in sorted(empirical_probabilities.items()):\n",
    "        cumulated_value = cumulated_value + value\n",
    "        cumulated_probabilities.update({key: cumulated_value})\n",
    "    # the quantile\n",
    "    quantile = 0.0\n",
    "    for key, value in sorted(cumulated_probabilities.items()):\n",
    "        if value >= p:\n",
    "            quantile = key\n",
    "            break\n",
    "    print(\"\\n##### Values and their empirical probabilities ###\")\n",
    "    pprint.pprint(empirical_probabilities)\n",
    "    print(\"\\n##### Values and their cumulated empirical probabilities ###\")\n",
    "    pprint.pprint(cumulated_probabilities)\n",
    "    print(\"\\n##### \" + str(p) + \"-Quantil ###\")\n",
    "    print(quantile)\n",
    "    \n",
    "calc_quantile(data_sorted, 0.25)\n",
    "calc_quantile(data_sorted, 0.9)"
   ]
  },
  {
   "cell_type": "markdown",
   "metadata": {},
   "source": [
    "## f) Maximale Grösse des Median bei 10-facher Vergrösserung beliebiger Werte\n",
    "\n",
    "Ansatz: wähle die 4 Grössten Werte der Stichprobe und berechne Median"
   ]
  },
  {
   "cell_type": "code",
   "execution_count": 150,
   "metadata": {},
   "outputs": [
    {
     "name": "stdout",
     "output_type": "stream",
     "text": [
      "### Initial mean ###\n",
      "350\n",
      "\n",
      "### Maximum mean based on modified sample ###\n",
      "350\n"
     ]
    }
   ],
   "source": [
    "def multiply_n_values_by_x(input_list, n, x):\n",
    "    i = len(input_list) - 1\n",
    "    while i >= len(input_list) - n:\n",
    "        input_list[i] = input_list[i] * x\n",
    "        i = i - 1\n",
    "    return input_list\n",
    "\n",
    "print(\"### Initial mean ###\")\n",
    "print(calc_median(data_sorted))\n",
    "print(\"\\n### Maximum mean based on modified sample ###\")\n",
    "data_multiplied = multiply_n_values_by_x(data_sorted, 4, 10)\n",
    "print(calc_median(data_multiplied))"
   ]
  },
  {
   "cell_type": "markdown",
   "metadata": {},
   "source": [
    "Resultat: da der Median auf den Indizes der jeweiligen geordneten Stichprobe basiert, führt eine Vergrösserung der 4 maximalen Werte einer Stichprobe nicht zu einer Änderung des Medians.\n",
    "\n",
    "Bei Multiplikation der Werte $x_{\\frac{n}{2}}, x_{\\frac{n}{2}+1}, x_{\\frac{n}{2}+2}, x_{\\frac{n}{2}+3}$ und anschliessender Sortierung, kann der Median für die gegebene Stichprobe höchstens den Wert 354 annehmen."
   ]
  },
  {
   "cell_type": "code",
   "execution_count": 151,
   "metadata": {},
   "outputs": [
    {
     "name": "stdout",
     "output_type": "stream",
     "text": [
      "### Initial mean ###\n",
      "350\n",
      "\n",
      "### Maximum mean based on modified sample ###\n",
      "354\n"
     ]
    }
   ],
   "source": [
    "def multiply_values_by_x(input_list, x):\n",
    "    i = len(input_list) / 2\n",
    "    input_list[i] = input_list[i] * x\n",
    "    input_list[i+1] = input_list[i+1] * x\n",
    "    input_list[i+2] = input_list[i+2] * x\n",
    "    input_list[i+3] = input_list[i+3] * x\n",
    "    return sorted(input_list)\n",
    "\n",
    "print(\"### Initial mean ###\")\n",
    "print(calc_median(data_sorted))\n",
    "print(\"\\n### Maximum mean based on modified sample ###\")\n",
    "data_multiplied = multiply_n_values_by_x(data_sorted, 10)\n",
    "print(calc_median(data_multiplied))\n"
   ]
  }
 ],
 "metadata": {
  "kernelspec": {
   "display_name": "Python 2",
   "language": "python",
   "name": "python2"
  },
  "language_info": {
   "codemirror_mode": {
    "name": "ipython",
    "version": 2
   },
   "file_extension": ".py",
   "mimetype": "text/x-python",
   "name": "python",
   "nbconvert_exporter": "python",
   "pygments_lexer": "ipython2",
   "version": "2.7.12"
  }
 },
 "nbformat": 4,
 "nbformat_minor": 2
}
