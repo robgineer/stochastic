{
 "cells": [
  {
   "cell_type": "markdown",
   "metadata": {},
   "source": [
    "# Aufgabe 3\n",
    "\n",
    "Zeigen Sie durch Unterscheidung der Fälle eines geraden und ungeraden Stichprobenumfangs, dass das $\\alpha$-getrimmte Mittel bei grösstmöglichem Trimmungsanteil in den Median der Definition 3.1.5 übergeht."
   ]
  },
  {
   "cell_type": "markdown",
   "metadata": {},
   "source": [
    "## a) Stichprobe mit geradem Umfang\n",
    "\n",
    "Ansatz: verwende Stichprobe aus Aufgabe 1 und Vergleich zum Median."
   ]
  },
  {
   "cell_type": "code",
   "execution_count": 85,
   "metadata": {},
   "outputs": [
    {
     "name": "stdout",
     "output_type": "stream",
     "text": [
      "Umfang: 30\n"
     ]
    }
   ],
   "source": [
    "data = [374, 358, 341, 355, 342, 334, 353, 346, 355, 344, 349, 330, 352, 328, 336, 359, 361, 345, 324,\n",
    "        386, 334, 370, 349, 327, 342, 354, 361, 354, 377, 324]\n",
    "\n",
    "data_sorted = sorted(data)\n",
    "\n",
    "print('Umfang: ' + str(len(data_sorted)) )"
   ]
  },
  {
   "cell_type": "markdown",
   "metadata": {},
   "source": [
    "Median aus Aufgabe 1"
   ]
  },
  {
   "cell_type": "code",
   "execution_count": 86,
   "metadata": {},
   "outputs": [
    {
     "data": {
      "text/plain": [
       "350"
      ]
     },
     "execution_count": 86,
     "metadata": {},
     "output_type": "execute_result"
    }
   ],
   "source": [
    "def calc_median(input_list):\n",
    "    # odd\n",
    "    n = len(input_list)\n",
    "    if n%2 != 0:\n",
    "        index = (n+1)/2\n",
    "        return input_list[index]\n",
    "    # even\n",
    "    else: \n",
    "        index_1 = n/2\n",
    "        index_2 = n/2+1\n",
    "        return (input_list[index_1] + input_list[index_2]) / 2\n",
    "calc_median(data_sorted)\n"
   ]
  },
  {
   "cell_type": "markdown",
   "metadata": {},
   "source": [
    "Alpha getrimmtes Mittel"
   ]
  },
  {
   "cell_type": "code",
   "execution_count": 87,
   "metadata": {},
   "outputs": [
    {
     "name": "stdout",
     "output_type": "stream",
     "text": [
      "##### Parameters #####\n",
      "aplha: 0.499999999\n",
      "n: 30\n",
      "k: 14\n",
      "n-k: 16\n",
      "##### ########## #####\n",
      "\n",
      "\n",
      "##### Result #####\n",
      "Amount of iterations: 2\n",
      "Alpha trimmed mean: 350\n",
      "Median: 350\n",
      "##### ###### #####\n"
     ]
    }
   ],
   "source": [
    "def calc_alpha_trim_mean(input_list, alpha):\n",
    "    n = len(input_list)\n",
    "    k = int(n * alpha)\n",
    "    print(\"##### Parameters #####\")\n",
    "    print(\"aplha: \"+str(alpha))\n",
    "    print(\"n: \" + str(n))\n",
    "    print('k: '+str(k))\n",
    "    print(\"n-k: \" +str(n-k))\n",
    "    print(\"##### ########## #####\")\n",
    "    j = k\n",
    "    x_t_a = 0\n",
    "    iteration_counter = 0\n",
    "    while j < (n-k):\n",
    "        j = j + 1\n",
    "        x_t_a = x_t_a + input_list[j]\n",
    "        iteration_counter = iteration_counter + 1\n",
    "    x_t_a = x_t_a / (n - 2*k)\n",
    "    \n",
    "    print(\"\\n\\n##### Result #####\")\n",
    "    print(\"Amount of iterations: \" + str(iteration_counter))\n",
    "    print(\"Alpha trimmed mean: \" + str(x_t_a))\n",
    "    median = calc_median(input_list)\n",
    "    print(\"Median: \" + str(median))\n",
    "    print(\"##### ###### #####\")\n",
    "\n",
    "calc_alpha_trim_mean(data_sorted, 0.499999999)"
   ]
  },
  {
   "cell_type": "markdown",
   "metadata": {},
   "source": [
    "## b) Stichprobe mit ungeradem Umfang"
   ]
  },
  {
   "cell_type": "code",
   "execution_count": 88,
   "metadata": {},
   "outputs": [
    {
     "name": "stdout",
     "output_type": "stream",
     "text": [
      "Umfang: 31\n"
     ]
    }
   ],
   "source": [
    "data.append(324)\n",
    "data_sorted = sorted(data)\n",
    "print('Umfang: ' + str(len(data_sorted)) )"
   ]
  },
  {
   "cell_type": "code",
   "execution_count": 89,
   "metadata": {},
   "outputs": [
    {
     "name": "stdout",
     "output_type": "stream",
     "text": [
      "##### Parameters #####\n",
      "aplha: 0.499999999\n",
      "n: 31\n",
      "k: 15\n",
      "n-k: 16\n",
      "##### ########## #####\n",
      "\n",
      "\n",
      "##### Result #####\n",
      "Amount of iterations: 1\n",
      "Alpha trimmed mean: 349\n",
      "Median: 349\n",
      "##### ###### #####\n"
     ]
    }
   ],
   "source": [
    "calc_alpha_trim_mean(data_sorted, 0.499999999)"
   ]
  },
  {
   "cell_type": "markdown",
   "metadata": {},
   "source": [
    "## Resulat\n",
    "\n",
    "Das $\\alpha$ getrimmte Mittel ist definiert als $x_{t, \\alpha} := \\frac{1}{n-2k}\\sum_{j=k+1}^{n-k} x_{[j]}$, wobei $0 < \\alpha < 1/2$ und $k := \\lfloor{n\\alpha}\\rfloor$.\n",
    "\n",
    "\n",
    "Da der Wert $n\\alpha$ abgerundet wird, entspricht der Wert von $k$ bei geraden Stichprobenumfängen stets $(n/2) -1$. Damit wird der Index $j$ auf $n/2$ gesetzt und es werden die Merkmalsausrägungen $x_{n/2}$ und $x_{(n/2)+1}$ addiert (und anschliessend durch 2 geteilt).\n",
    "\n",
    "Bei ungeraden Stichprobenumfängen gilt $k=n/2$ und $j=k+1$, wodurch lediglich $x_{n/2}$ beücksichtigt wird.\n",
    "\n",
    "Dies entspricht der Def. 3.1.5 des Medians:\n",
    "\n",
    "falls $n$ ungerade: \n",
    "\\begin{equation}\n",
    "\\tilde{x} = x_{[\\frac{n+1}{2}]}\n",
    "\\end{equation}\n",
    "\n",
    "falls $n$ gerade:\n",
    "\n",
    "\\begin{equation}\n",
    "\\tilde{x} = \\frac{x_{[\\frac{n}{2}]} + x_{[\\frac{n}{2} + 1]}}{2}\n",
    "\\end{equation}\n"
   ]
  },
  {
   "cell_type": "code",
   "execution_count": null,
   "metadata": {},
   "outputs": [],
   "source": []
  }
 ],
 "metadata": {
  "kernelspec": {
   "display_name": "Python 2",
   "language": "python",
   "name": "python2"
  },
  "language_info": {
   "codemirror_mode": {
    "name": "ipython",
    "version": 2
   },
   "file_extension": ".py",
   "mimetype": "text/x-python",
   "name": "python",
   "nbconvert_exporter": "python",
   "pygments_lexer": "ipython2",
   "version": "2.7.12"
  }
 },
 "nbformat": 4,
 "nbformat_minor": 2
}
