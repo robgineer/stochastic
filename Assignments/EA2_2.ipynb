{
 "cells": [
  {
   "cell_type": "markdown",
   "metadata": {},
   "source": [
    "# Aufgabe 2\n",
    "\n",
    "Betrachten  Sie  den $n$-maligen Münzwurf einer fairen Munze, also  $(\\Omega, p)$ mit $\\Omega = {0,1}^n$ und $p(w) = \\frac{1}{2^n}$ für alle $w \\in \\Omega$. Dabei stehe $1$ für ”Kopf“ und $0$ für ”Zahl“. Eine 1$ - 0$ -Sequenz ist definiert als ein Element in $\\Omega$, in dem jedem Eintrag  $1$ der Eintrag $0$ folgen muss (man stelle sich einfach vor, dass bei Kopf ein Spieler A gewinnt, bei Zahl ein Spieler B und Spieler A nach einem Gewinn generos das folgende Spiel einfach Spieler B gewinnen lasst).  \n",
    "\n",
    "Bestimmen Sie die Wahrscheinlichkeit fur das Auftreten einer  1 - 0 -Sequenz beim $n$-maligen fairen Munzwurf.\n",
    "\n",
    "\n",
    "Hinweis: Man betrachte die folgende, sehr beruhmte induktiv definierte Zahlenfolge: $F_{n+1}=F_n+F_{n−1}$ für $n \\in N$ mit $F_0 = 0$  und $F_1 = 1$ . \n",
    "Die Zahlen $F$ nnennt man Fibonacci’sche Zahlen. Fibonacci(sein eigentlicher Name ist Leonardovon Pisa(≈1170-1240), und bedeutet einfach ”Sohn des Gutmutigen“, den Namen ”Bonaccio“ seines Vaters benutzend) behandelte in seiner Liber Abaci aus dem Jahre 1202 die folgende ”Kaninchenaufgabe“: Angenommen, jedes Kaninchenpaarzeugt allmonatlich ein neues Paar, welches vom zweiten Monat an ebenfalls zeugungsfahig ist, wahrend Todesfalle nicht auftreten. Hat man im ersten Monat einneugeborenes Paar, so ist dieses im zweiten Monat zeugungsfähig, und im dritten Monat hat man also zwei Paare usw. Dann ist $F_n$ die Zahl der Paare im $n$-ten Mo-nat. Benutzen Sie die Formel von Jacques Philippe Marie Binet(1786-1856),die eine Darstellung der $F_n$ in geschlossener Form angibt:\n",
    "\n",
    "\\begin{equation}\n",
    "F_n = \\frac{1}{\\sqrt 5} \\left[  \\left(\\frac{1+\\sqrt 5}{2} \\right)^n - \\left(\\frac{1-\\sqrt 5}{2} \\right)^n \\right]\n",
    "\\end{equation}\n"
   ]
  },
  {
   "cell_type": "code",
   "execution_count": 1,
   "metadata": {},
   "outputs": [],
   "source": [
    "from math import sqrt\n",
    "def calc_fibonacci_n(n):\n",
    "    temp_1 = 1/sqrt(5)\n",
    "    temp_2 = ((( 1 + sqrt(5)) / 2)**n) - ((( 1 - sqrt(5)) / 2)**n)\n",
    "    return  temp_1 * temp_2"
   ]
  },
  {
   "cell_type": "code",
   "execution_count": 2,
   "metadata": {},
   "outputs": [
    {
     "data": {
      "text/plain": [
       "5.000000000000001"
      ]
     },
     "execution_count": 2,
     "metadata": {},
     "output_type": "execute_result"
    }
   ],
   "source": [
    "calc_fibonacci_n(5)"
   ]
  },
  {
   "cell_type": "markdown",
   "metadata": {},
   "source": [
    "Analog zu Aufgabe 2.1 gilt hier, dass mit der Grösse der Wurffolge ($|\\Omega|$) sich die Wahrscheinlichkeit bzgl. eines Auftretens der gewünschten Folge (hier: $(1,0)$) erhöht.\n",
    "\n",
    "Sei $A$ die Menge der 1-0 Sequenzen mit\n",
    "\n",
    "\\begin{equation}\n",
    "A_n = \\{(1,0)^n\\}\n",
    "\\end{equation}\n",
    "\n",
    "und\n",
    "\n",
    "\\begin{equation}\n",
    "A_n \\subseteq \\Omega_n\n",
    "\\end{equation}\n",
    "\n",
    "Die Mächtigkeit von $\\Omega_n$ ist (analog zu Aufgabe 2.1) als Kreuzprodukt der $n$-Tupel $\\{0,1\\}$ definiert. Somit gilt\n",
    "\n",
    "\\begin{equation}\n",
    "|\\Omega_n| = 2^n\n",
    "\\end{equation}\n",
    "\n",
    "Die Mächtigkeit von $A_n$ ist dabei abhängig von der Anzahl der Würfe $n$ bzw. von der Mächtigkeit $\\Omega_n$.\n",
    "\n",
    "\\begin{equation}\n",
    "|A_n| = |\\Omega_n| - (n + 1) = 2^n - (n+1) \n",
    "\\end{equation}\n",
    "\n",
    "Damit wird ist die Wahrscheinlicheit ($p$) eine 1-0 Sequenz ($w$) zu werfen definiert als:\n",
    "\n",
    "\\begin{equation}\n",
    "p(w)_n =  \\frac{|A_n|}{|\\Omega_n|} =  \\frac{|\\Omega_n| - (n+1)}{|\\Omega_n|} = \\frac{2^n - (n+1)}{2^n}\n",
    "\\end{equation}\n",
    "\n",
    "In induktiver Form kann $|A_n|$ ausgedrückt werden als\n",
    "\n",
    "\\begin{equation}\n",
    "|A_n| = |\\Omega_{n-1}| + |A_{n-1}| - 1 = |\\Omega_{n-1}| + (|\\Omega_{n-1}| - (n -1 + 1)) -1 = 2^{n-1} + 2^{n-1} - n -1  \n",
    "\\end{equation}\n",
    "\n",
    "Und damit die Wahrscheinlichkeit einer 1-0 Sequenz induktiv als\n",
    "\n",
    "\\begin{equation}\n",
    "p(w)_n =  \\frac{|A_n|}{|\\Omega_n|} =  \\frac{|\\Omega_{n-1}| + |A_{n-1}| - 1}{|\\Omega_n|} = \\frac{2^{n-1} + 2^{n-1}-n-1}{2^n}\n",
    "\\end{equation}\n"
   ]
  },
  {
   "cell_type": "markdown",
   "metadata": {},
   "source": [
    "## Praktisches Beispiel"
   ]
  },
  {
   "cell_type": "code",
   "execution_count": 3,
   "metadata": {},
   "outputs": [],
   "source": [
    "# define basic operations\n",
    "import itertools\n",
    "def get_omega(n, print_omega=True):\n",
    "    sum_i = 0\n",
    "    if print_omega:\n",
    "        print(\"Omega: \")\n",
    "    omega_iterator = itertools.product('01', repeat=n)\n",
    "    for i in omega_iterator:\n",
    "        sum_i = sum_i +1\n",
    "        if print_omega:\n",
    "            print(i)\n",
    "    print(\"Omega size: \"+str(sum_i))\n",
    "    return itertools.product('01', repeat=n)\n",
    "\n",
    "def get_event_probability(omega_iterator):\n",
    "    event_counter = 0\n",
    "    omega_size = 0.0\n",
    "    for item in omega_iterator:\n",
    "        omega_size = omega_size + 1\n",
    "        last_element = 99\n",
    "        for element in item:\n",
    "            if int(element) == 0 and int(last_element) == 1:\n",
    "                    event_counter = event_counter +1\n",
    "                    break\n",
    "            last_element = element\n",
    "    print(\"Anzahl 1-0 Sequenzen: \"+str(event_counter))\n",
    "    print(\"Wahrscheinlichkeit einer 1-0 Sequenz: \"+str(event_counter/omega_size))\n",
    "    return event_counter, event_counter/omega_size"
   ]
  },
  {
   "cell_type": "code",
   "execution_count": 4,
   "metadata": {},
   "outputs": [
    {
     "name": "stdout",
     "output_type": "stream",
     "text": [
      "\n",
      "n=2\n",
      "Omega size: 4\n",
      "Anzahl 1-0 Sequenzen: 1\n",
      "Wahrscheinlichkeit einer 1-0 Sequenz: 0.25\n",
      "\n",
      "n=3\n",
      "Omega size: 8\n",
      "Anzahl 1-0 Sequenzen: 4\n",
      "Wahrscheinlichkeit einer 1-0 Sequenz: 0.5\n",
      "\n",
      "n=4\n",
      "Omega size: 16\n",
      "Anzahl 1-0 Sequenzen: 11\n",
      "Wahrscheinlichkeit einer 1-0 Sequenz: 0.6875\n",
      "\n",
      "n=5\n",
      "Omega size: 32\n",
      "Anzahl 1-0 Sequenzen: 26\n",
      "Wahrscheinlichkeit einer 1-0 Sequenz: 0.8125\n",
      "\n",
      "n=6\n",
      "Omega size: 64\n",
      "Anzahl 1-0 Sequenzen: 57\n",
      "Wahrscheinlichkeit einer 1-0 Sequenz: 0.890625\n",
      "\n",
      "n=7\n",
      "Omega size: 128\n",
      "Anzahl 1-0 Sequenzen: 120\n",
      "Wahrscheinlichkeit einer 1-0 Sequenz: 0.9375\n",
      "\n",
      "n=8\n",
      "Omega size: 256\n",
      "Anzahl 1-0 Sequenzen: 247\n",
      "Wahrscheinlichkeit einer 1-0 Sequenz: 0.96484375\n",
      "\n",
      "n=9\n",
      "Omega size: 512\n",
      "Anzahl 1-0 Sequenzen: 502\n",
      "Wahrscheinlichkeit einer 1-0 Sequenz: 0.98046875\n",
      "\n",
      "n=10\n",
      "Omega size: 1024\n",
      "Anzahl 1-0 Sequenzen: 1013\n",
      "Wahrscheinlichkeit einer 1-0 Sequenz: 0.9892578125\n",
      "\n",
      "n=11\n",
      "Omega size: 2048\n",
      "Anzahl 1-0 Sequenzen: 2036\n",
      "Wahrscheinlichkeit einer 1-0 Sequenz: 0.994140625\n",
      "\n",
      "n=12\n",
      "Omega size: 4096\n",
      "Anzahl 1-0 Sequenzen: 4083\n",
      "Wahrscheinlichkeit einer 1-0 Sequenz: 0.996826171875\n",
      "\n",
      "n=13\n",
      "Omega size: 8192\n",
      "Anzahl 1-0 Sequenzen: 8178\n",
      "Wahrscheinlichkeit einer 1-0 Sequenz: 0.998291015625\n",
      "\n",
      "n=14\n",
      "Omega size: 16384\n",
      "Anzahl 1-0 Sequenzen: 16369\n",
      "Wahrscheinlichkeit einer 1-0 Sequenz: 0.999084472656\n",
      "\n",
      "n=15\n",
      "Omega size: 32768\n",
      "Anzahl 1-0 Sequenzen: 32752\n",
      "Wahrscheinlichkeit einer 1-0 Sequenz: 0.99951171875\n",
      "\n",
      "n=16\n",
      "Omega size: 65536\n",
      "Anzahl 1-0 Sequenzen: 65519\n",
      "Wahrscheinlichkeit einer 1-0 Sequenz: 0.999740600586\n",
      "\n",
      "n=17\n",
      "Omega size: 131072\n",
      "Anzahl 1-0 Sequenzen: 131054\n",
      "Wahrscheinlichkeit einer 1-0 Sequenz: 0.999862670898\n",
      "\n",
      "n=18\n",
      "Omega size: 262144\n",
      "Anzahl 1-0 Sequenzen: 262125\n",
      "Wahrscheinlichkeit einer 1-0 Sequenz: 0.999927520752\n",
      "\n",
      "n=19\n",
      "Omega size: 524288\n",
      "Anzahl 1-0 Sequenzen: 524268\n",
      "Wahrscheinlichkeit einer 1-0 Sequenz: 0.999961853027\n"
     ]
    }
   ],
   "source": [
    "for i in range(2, 20, 1):\n",
    "    print(\"\\nn=\"+str(i))\n",
    "    omega_x = get_omega(i, print_omega=False)\n",
    "    get_event_probability(omega_x)"
   ]
  }
 ],
 "metadata": {
  "kernelspec": {
   "display_name": "Python 2",
   "language": "python",
   "name": "python2"
  },
  "language_info": {
   "codemirror_mode": {
    "name": "ipython",
    "version": 2
   },
   "file_extension": ".py",
   "mimetype": "text/x-python",
   "name": "python",
   "nbconvert_exporter": "python",
   "pygments_lexer": "ipython2",
   "version": "2.7.12"
  }
 },
 "nbformat": 4,
 "nbformat_minor": 2
}
