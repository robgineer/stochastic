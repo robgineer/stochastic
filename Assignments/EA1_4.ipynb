{
 "cells": [
  {
   "cell_type": "markdown",
   "metadata": {},
   "source": [
    "# Aufgabe 4\n",
    "\n",
    "Drücken Sie den Winkel $\\phi$ zwischen den beiden Regressionsgeraden (der Regression y auf x und von x auf y) durch $s_x$ , $s_y$ und $s_{xy}$ aus. Beachten Sie etwa das Additionstheorem der Tangensfunktion."
   ]
  },
  {
   "cell_type": "markdown",
   "metadata": {},
   "source": [
    "Für zwei Stichproben \n",
    "\n",
    "$x = (1,2,5,6,4,9,12,10)$, und \n",
    "\n",
    "$y = (2,3,5,4,7,12,9,30)$ \n",
    "\n",
    "errechnet sich die Ausgleichsgerade bzgl. $y$ mit $y = \\bar{y} + \\frac{s_{xy}}{s_x^2}(x-\\bar{x})$ und \n",
    "\n",
    "und die Ausgleichsgerade bzgl. $x$ mit $x = \\bar{x} + \\frac{s_{xy}}{s_y^2}(y-\\bar{y})$\n",
    "\n",
    "Praktisches Beispiel im Folgenden."
   ]
  },
  {
   "cell_type": "code",
   "execution_count": 1,
   "metadata": {},
   "outputs": [],
   "source": [
    "### define basic statistical operations ###\n",
    "def calc_mean(sample):\n",
    "    n = len(sample)\n",
    "    sum_of_items = 0.0\n",
    "    for item in sample:\n",
    "        sum_of_items = sum_of_items + item\n",
    "    return sum_of_items / n\n",
    "\n",
    "def calc_variance(sample):\n",
    "    n = len(sample)\n",
    "    mean = calc_mean(sample)\n",
    "    temp = 0\n",
    "    for item in sample:\n",
    "        temp = temp + ((item - mean)**2)\n",
    "    return temp / (n)\n",
    "\n",
    "def calc_sample_covariance(x,y):\n",
    "    if len(x) != len(y):\n",
    "        print(\"len(x) != len(y)\")\n",
    "        return 0\n",
    "    n = len(x)\n",
    "    mean_x = calc_mean(x)\n",
    "    mean_y = calc_mean(y)\n",
    "    temp = 0\n",
    "    for i in range(n):\n",
    "        temp = temp + ((y[i] - mean_y)*(x[i] - mean_x))\n",
    "    return temp / (n-1)"
   ]
  },
  {
   "cell_type": "code",
   "execution_count": 2,
   "metadata": {},
   "outputs": [],
   "source": [
    "### define x and y regression\n",
    "def calc_regression_x(x,y):\n",
    "    sample_cov = calc_sample_covariance(x,y)\n",
    "    variance = calc_variance(y)\n",
    "    mean_y = calc_mean(y)\n",
    "    mean_x = calc_mean(x)\n",
    "    regression = []\n",
    "    for item in y:\n",
    "        temp =  mean_x + (sample_cov/variance* (item - mean_y))\n",
    "        regression.append(temp)\n",
    "    return regression\n",
    "\n",
    "def calc_regression_y(x,y):\n",
    "    sample_cov = calc_sample_covariance(x,y)\n",
    "    variance = calc_variance(x)\n",
    "    mean_y = calc_mean(y)\n",
    "    mean_x = calc_mean(x)\n",
    "    regression = []\n",
    "    for item in x:\n",
    "        temp =  mean_y + (sample_cov/variance* (item - mean_x))\n",
    "        regression.append(temp)\n",
    "    return regression"
   ]
  },
  {
   "cell_type": "code",
   "execution_count": 5,
   "metadata": {},
   "outputs": [
    {
     "data": {
      "image/png": "[encoded data removed]",
      "text/plain": [
       "<Figure size 432x288 with 1 Axes>"
      ]
     },
     "metadata": {
      "needs_background": "light"
     },
     "output_type": "display_data"
    }
   ],
   "source": [
    "# run regression on sample data and plot\n",
    "import numpy as np\n",
    "from matplotlib import pyplot as plt\n",
    "x = np.array([1, 2, 5, 6, 4, 9, 12, 10])\n",
    "y = np.array([2, 3, 5, 4, 7,12,9, 30])\n",
    "\n",
    "x_regression = calc_regression_x(x,y)\n",
    "y_regression  = calc_regression_y(x,y)\n",
    "\n",
    "plt.plot(x_regression, y)\n",
    "plt.plot(x, y_regression)\n",
    "plt.show()"
   ]
  },
  {
   "cell_type": "markdown",
   "metadata": {},
   "source": [
    "Lt. Aufgabenstellung soll nun der Schnittwinkel beider Regressionsgeraden ausgedrückt werden. Dieser errechnet sich aus den Steigungswinkeln der einzelnen geraden mit $tan(\\alpha) = a$.\n",
    "\n",
    "Dabei sind die Regressionskoeffienten der Ausgleichsgerade bzgl. $y$ / $x$ definiert als\n",
    "\n",
    "$a_x = \\frac{s_{xy}}{s_x^2}$ für $y = \\bar{y} + \\frac{s_{xy}}{s_x^2}(x-\\bar{x})$ und \n",
    "\n",
    "$a_y = \\frac{s_{xy}}{s_y^2}$ für  $x = \\bar{x} + \\frac{s_{xy}}{s_y^2}(y-\\bar{y})$\n",
    "\n",
    "Der Schnittwinkel is nun die Subtraktion der Steigungswinkel gegeben mit $tan(\\alpha) = tan(\\alpha_1) - tan(\\alpha_2)$. Der Schnittwinkel $\\alpha$ ist somit $\\alpha = arctan(\\alpha_1) - arctan(\\alpha_2)$.\n",
    "\n",
    "Hilfe des Additionstheorems für Arkusfunktionen gilt:\n",
    "\n",
    "\\begin{equation}\n",
    "arctan(x) - arctan(y) = arctan(\\frac{x-y}{1+xy})\n",
    "\\end{equation}\n",
    "\n",
    "Der Winkel $\\phi$ der Ausgleichsgeraden bzgl. $y$ / $x$ ist somit: \n",
    "\n",
    "\\begin{equation}\n",
    "\\phi = arctan(\\frac{s_{xy}}{s_x^2}) - arctan(\\frac{s_{xy}}{s_y^2}) = \n",
    "arctan(\\frac{\\frac{s_{xy}}{s_x^2}-\\frac{s_{xy}}{s_y^2}}{1+ \\frac{s_{xy}}{s_x^2} \\frac{s_{xy}}{s_y^2} })\n",
    "\\end{equation}"
   ]
  },
  {
   "cell_type": "code",
   "execution_count": 4,
   "metadata": {},
   "outputs": [
    {
     "data": {
      "text/plain": [
       "[<matplotlib.lines.Line2D at 0x7f85c73b6990>]"
      ]
     },
     "execution_count": 4,
     "metadata": {},
     "output_type": "execute_result"
    },
    {
     "data": {
      "image/png": "[encoded data removed]",
      "text/plain": [
       "<Figure size 432x288 with 1 Axes>"
      ]
     },
     "metadata": {
      "needs_background": "light"
     },
     "output_type": "display_data"
    }
   ],
   "source": [
    "\n",
    "###### BACKUP ####\n",
    "\n",
    "import numpy as np\n",
    "from matplotlib import pyplot as plt\n",
    "\n",
    "x = np.array([1, 2, 5, 6, 4, 9, 12, 10])\n",
    "y = np.array([2, 3, 5, 4, 7,12,9, 30])\n",
    "m, b = np.polyfit(x, y, 1)\n",
    "plt.plot(x, y, 'o')\n",
    "plt.plot(x, m*x + b)"
   ]
  }
 ],
 "metadata": {
  "kernelspec": {
   "display_name": "Python 2",
   "language": "python",
   "name": "python2"
  },
  "language_info": {
   "codemirror_mode": {
    "name": "ipython",
    "version": 2
   },
   "file_extension": ".py",
   "mimetype": "text/x-python",
   "name": "python",
   "nbconvert_exporter": "python",
   "pygments_lexer": "ipython2",
   "version": "2.7.12"
  }
 },
 "nbformat": 4,
 "nbformat_minor": 2
}
