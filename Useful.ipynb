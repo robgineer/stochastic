{
 "cells": [
  {
   "cell_type": "markdown",
   "metadata": {},
   "source": [
    "# Grundbegriffe"
   ]
  },
  {
   "cell_type": "markdown",
   "metadata": {},
   "source": [
    "**Merkmal** ist die interessierende Größe $w$.\n",
    "\n",
    "**Merkmalsausprägung** ein konkreter Wert des Merkmals $X(w)$.\n",
    "\n",
    "**Grundgesamtheit** die gesamte Menge der relevanten Daten $\\Omega$.\n",
    "\n",
    "**Stichprobe** Teilmenge der Grundgesamtheit $x= (x_1, ... , x_n)$.\n",
    "\n",
    "**Merkmalwerte** verschiedene Werte einer Stichprobe $x^*= (x^*_1, ... , x^*_N)$.\n",
    "\n",
    "**Absolute Häufigkeit*** $h_k:=h(x^*_k)$\n",
    "\n",
    "**Relative Häufigkeit*** $r_k:=r(x^*_k):=\\frac{h_k}{n}$"
   ]
  },
  {
   "cell_type": "markdown",
   "metadata": {},
   "source": [
    "## Benford-Gesetz\n",
    "\n",
    "Die Verteilung der auftretenden Zahlen ist wie folgt (relative Häufigkeit, rH)"
   ]
  },
  {
   "cell_type": "code",
   "execution_count": 7,
   "metadata": {},
   "outputs": [
    {
     "data": {
      "text/plain": [
       "{1: 0.301,\n",
       " 2: 0.176,\n",
       " 3: 0.125,\n",
       " 4: 0.097,\n",
       " 5: 0.079,\n",
       " 6: 0.067,\n",
       " 7: 0.058,\n",
       " 8: 0.051,\n",
       " 9: 0.046}"
      ]
     },
     "execution_count": 7,
     "metadata": {},
     "output_type": "execute_result"
    }
   ],
   "source": [
    "rH = {1: 0.301, 2: 0.176, 3: 0.125, 4: 0.097, 5: 0.079, 6: 0.067, 7: 0.058, 8: 0.051, 9: 0.046}\n",
    "rH"
   ]
  },
  {
   "cell_type": "markdown",
   "metadata": {},
   "source": [
    "## Regel von Sturge für klassierte Daten\n",
    "\n",
    "Die optimale Anzahl der Klassen bei Gruppierung (Vereinfachung) von Daten für \n",
    "\n",
    "$n < 100$ : $\\sqrt(n)$\n",
    "\n",
    "$n > 100$ : $\\log_2 n$ "
   ]
  },
  {
   "cell_type": "code",
   "execution_count": 16,
   "metadata": {},
   "outputs": [],
   "source": [
    "import math as m\n",
    "\n",
    "def get_optimum_bins(n):\n",
    "    if n > 100:\n",
    "        return m.log(n,2)\n",
    "    else:\n",
    "        return m.sqrt(n)"
   ]
  },
  {
   "cell_type": "code",
   "execution_count": 17,
   "metadata": {},
   "outputs": [
    {
     "data": {
      "text/plain": [
       "16.609640474436812"
      ]
     },
     "execution_count": 17,
     "metadata": {},
     "output_type": "execute_result"
    }
   ],
   "source": [
    "get_optimum_bins(100000)"
   ]
  },
  {
   "cell_type": "code",
   "execution_count": null,
   "metadata": {},
   "outputs": [],
   "source": []
  }
 ],
 "metadata": {
  "kernelspec": {
   "display_name": "Python 2",
   "language": "python",
   "name": "python2"
  },
  "language_info": {
   "codemirror_mode": {
    "name": "ipython",
    "version": 2
   },
   "file_extension": ".py",
   "mimetype": "text/x-python",
   "name": "python",
   "nbconvert_exporter": "python",
   "pygments_lexer": "ipython2",
   "version": "2.7.12"
  }
 },
 "nbformat": 4,
 "nbformat_minor": 2
}
