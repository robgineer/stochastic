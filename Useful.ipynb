{
 "cells": [
  {
   "cell_type": "markdown",
   "metadata": {},
   "source": [
    "# Grundbegriffe"
   ]
  },
  {
   "cell_type": "markdown",
   "metadata": {},
   "source": [
    "**Merkmal** ist die interessierende Größe $w$.\n",
    "\n",
    "**Merkmalsausprägung** ein konkreter Wert des Merkmals $X(w)$.\n",
    "\n",
    "**Grundgesamtheit** die gesamte Menge der relevanten Daten $\\Omega$.\n",
    "\n",
    "**Stichprobe** Teilmenge der Grundgesamtheit $x= (x_1, ... , x_n)$.\n",
    "\n",
    "**Merkmalwerte** verschiedene Werte einer Stichprobe $x^*= (x^*_1, ... , x^*_N)$.\n",
    "\n",
    "**Absolute Häufigkeit*** $h_k:=h(x^*_k)$\n",
    "\n",
    "**Relative Häufigkeit*** $r_k:=r(x^*_k):=\\frac{h_k}{n}$\n",
    "\n",
    "**Modalwert** Merkmalwert mit höchster relativer / absoluter Häufigkeit\n",
    "\n",
    "**Median / Zentralwert** $\\sum_{x => x*} r(x) > 0.5$ und $\\sum_{x <= x*} r(x) < 0.5$. Bei geordneten Stichproben gilt falls $n$ ungerade: \n",
    "\\begin{equation}\n",
    "\\tilde{x} = x_{[\\frac{n+1}{2}]}\n",
    "\\end{equation}\n",
    "falls $n$ gerade:\n",
    "\n",
    "\\begin{equation}\n",
    "\\tilde{x} = \\frac{x_{[\\frac{n}{2}]} + x_{[\\frac{n}{2} + 1]}}{2}\n",
    "\\end{equation}\n",
    "\n",
    "**Arithmetisches Mittel** Summe aller Merkmalausprägungen einer Stichprobe dividiert durch den Umfang der Stichprobe $\\bar{x} = \\frac{1}{n}\\sum_{i=1}^n x_i$\n",
    "\n",
    "**Empirische Varianz** Streumaß definiert als $s_x^2 = \\frac{1}{n-1}\\sum_{i=1}^n (x_i - \\bar{x})^2$"
   ]
  },
  {
   "cell_type": "markdown",
   "metadata": {},
   "source": [
    "## Benford-Gesetz\n",
    "\n",
    "Die Verteilung der auftretenden Zahlen von 1 bis 9 als führende Zifferist wie folgt (relative Häufigkeit, rH)\n",
    "\\begin{equation}\n",
    "\\log_{10}(1+\\frac{1}{n})\n",
    "\\end{equation}"
   ]
  },
  {
   "cell_type": "code",
   "execution_count": 7,
   "metadata": {},
   "outputs": [
    {
     "data": {
      "text/plain": [
       "{1: 0.301,\n",
       " 2: 0.176,\n",
       " 3: 0.125,\n",
       " 4: 0.097,\n",
       " 5: 0.079,\n",
       " 6: 0.067,\n",
       " 7: 0.058,\n",
       " 8: 0.051,\n",
       " 9: 0.046}"
      ]
     },
     "execution_count": 7,
     "metadata": {},
     "output_type": "execute_result"
    }
   ],
   "source": [
    "rH = {1: 0.301, 2: 0.176, 3: 0.125, 4: 0.097, 5: 0.079, 6: 0.067, 7: 0.058, 8: 0.051, 9: 0.046}\n",
    "rH"
   ]
  },
  {
   "cell_type": "markdown",
   "metadata": {},
   "source": [
    "## Regel von Sturge für klassierte Daten\n",
    "\n",
    "Die optimale Anzahl der Klassen bei Gruppierung (bzw. Reduktion) von Daten für \n",
    "\n",
    "$n < 100$ : $\\sqrt(n)$\n",
    "\n",
    "$n > 100$ : $\\log_2 n$ "
   ]
  },
  {
   "cell_type": "code",
   "execution_count": 16,
   "metadata": {},
   "outputs": [],
   "source": [
    "import math as m\n",
    "\n",
    "def get_optimum_bins(n):\n",
    "    if n > 100:\n",
    "        return m.log(n,2)\n",
    "    else:\n",
    "        return m.sqrt(n)"
   ]
  },
  {
   "cell_type": "code",
   "execution_count": 17,
   "metadata": {},
   "outputs": [
    {
     "data": {
      "text/plain": [
       "16.609640474436812"
      ]
     },
     "execution_count": 17,
     "metadata": {},
     "output_type": "execute_result"
    }
   ],
   "source": [
    "get_optimum_bins(100000)"
   ]
  },
  {
   "cell_type": "markdown",
   "metadata": {},
   "source": []
  },
  {
   "cell_type": "code",
   "execution_count": 2,
   "metadata": {},
   "outputs": [
    {
     "data": {
      "text/html": [
       "<div>\n",
       "<style scoped>\n",
       "    .dataframe tbody tr th:only-of-type {\n",
       "        vertical-align: middle;\n",
       "    }\n",
       "\n",
       "    .dataframe tbody tr th {\n",
       "        vertical-align: top;\n",
       "    }\n",
       "\n",
       "    .dataframe thead th {\n",
       "        text-align: right;\n",
       "    }\n",
       "</style>\n",
       "<table border=\"1\" class=\"dataframe\">\n",
       "  <thead>\n",
       "    <tr style=\"text-align: right;\">\n",
       "      <th></th>\n",
       "      <th>Foo</th>\n",
       "      <th>Bar</th>\n",
       "    </tr>\n",
       "  </thead>\n",
       "  <tbody>\n",
       "    <tr>\n",
       "      <th>0</th>\n",
       "      <td>1</td>\n",
       "      <td>2</td>\n",
       "    </tr>\n",
       "    <tr>\n",
       "      <th>1</th>\n",
       "      <td>3</td>\n",
       "      <td>4</td>\n",
       "    </tr>\n",
       "  </tbody>\n",
       "</table>\n",
       "</div>"
      ],
      "text/plain": [
       "   Foo  Bar\n",
       "0    1    2\n",
       "1    3    4"
      ]
     },
     "execution_count": 2,
     "metadata": {},
     "output_type": "execute_result"
    }
   ],
   "source": [
    "import pandas as pd\n",
    "data = [[1, 2], [3, 4]]\n",
    "pd.DataFrame(data, columns=[\"Foo\", \"Bar\"])"
   ]
  },
  {
   "cell_type": "code",
   "execution_count": null,
   "metadata": {},
   "outputs": [],
   "source": []
  }
 ],
 "metadata": {
  "kernelspec": {
   "display_name": "Python 2",
   "language": "python",
   "name": "python2"
  },
  "language_info": {
   "codemirror_mode": {
    "name": "ipython",
    "version": 2
   },
   "file_extension": ".py",
   "mimetype": "text/x-python",
   "name": "python",
   "nbconvert_exporter": "python",
   "pygments_lexer": "ipython2",
   "version": "2.7.12"
  }
 },
 "nbformat": 4,
 "nbformat_minor": 2
}
